{
 "cells": [
  {
   "cell_type": "markdown",
   "metadata": {
    "application/vnd.databricks.v1+cell": {
     "cellMetadata": {
      "byteLimit": 2048000,
      "rowLimit": 10000
     },
     "inputWidgets": {},
     "nuid": "88453555-0c94-4eed-8413-724da4750848",
     "showTitle": false,
     "tableResultSettingsMap": {},
     "title": ""
    }
   },
   "source": [
    "## CONECTANDO API"
   ]
  },
  {
   "cell_type": "markdown",
   "metadata": {
    "application/vnd.databricks.v1+cell": {
     "cellMetadata": {
      "byteLimit": 2048000,
      "rowLimit": 10000
     },
     "inputWidgets": {},
     "nuid": "48a5c037-28da-46c9-8f42-6a6ae3b0d350",
     "showTitle": false,
     "tableResultSettingsMap": {},
     "title": ""
    }
   },
   "source": [
    "Vamos utilizar uma api para extrir os dados de cotação de cambio historico de 2 meses. A API sua da foi APILayer\n",
    " (https://apilayer.com/marketplace/exchangerates_data-api#documentation-tab).\n",
    " Voce pode fazer ate 200 requisições free por mes. "
   ]
  },
  {
   "cell_type": "markdown",
   "metadata": {
    "application/vnd.databricks.v1+cell": {
     "cellMetadata": {
      "byteLimit": 2048000,
      "rowLimit": 10000
     },
     "inputWidgets": {},
     "nuid": "41a11d42-12c8-4a7a-bc13-1ff5c4629a77",
     "showTitle": false,
     "tableResultSettingsMap": {},
     "title": ""
    }
   },
   "source": [
    "Para o codigo abaixo faça cadastro na API e altere a APIKEY para a sua."
   ]
  },
  {
   "cell_type": "code",
   "execution_count": 0,
   "metadata": {
    "application/vnd.databricks.v1+cell": {
     "cellMetadata": {
      "byteLimit": 2048000,
      "rowLimit": 10000
     },
     "inputWidgets": {},
     "nuid": "1566b163-8639-45fc-903e-60884721a725",
     "showTitle": false,
     "tableResultSettingsMap": {},
     "title": ""
    }
   },
   "outputs": [],
   "source": [
    "dbutils.widgets.text(\"data_execucao\", \"\")\n",
    "data_execucao = dbutils.widgets.get(\"data_execucao\")"
   ]
  },
  {
   "cell_type": "code",
   "execution_count": 0,
   "metadata": {
    "application/vnd.databricks.v1+cell": {
     "cellMetadata": {
      "byteLimit": 2048000,
      "rowLimit": 10000
     },
     "inputWidgets": {},
     "nuid": "6362b159-aa95-4e04-ad0f-6fa259422344",
     "showTitle": false,
     "tableResultSettingsMap": {},
     "title": ""
    }
   },
   "outputs": [],
   "source": [
    "import requests\n",
    "from pyspark.sql.functions import lit"
   ]
  },
  {
   "cell_type": "code",
   "execution_count": 0,
   "metadata": {
    "application/vnd.databricks.v1+cell": {
     "cellMetadata": {
      "byteLimit": 2048000,
      "rowLimit": 10000
     },
     "inputWidgets": {},
     "nuid": "8128949a-4046-4dcc-b1ce-b063eecbabe4",
     "showTitle": false,
     "tableResultSettingsMap": {},
     "title": ""
    }
   },
   "outputs": [],
   "source": [
    "def extraindo_dados(date, base=\"BRL\"):\n",
    "    url = f\"https://api.apilayer.com/exchangerates_data/{date}?&base={base}\"\n",
    "    headers = {\n",
    "        \"apikey\": \"sua chave\"\n",
    "    }\n",
    "\n",
    "    parametros = {\"base\":base}\n",
    "    response = requests.get(url, headers=headers, params=parametros)\n",
    "\n",
    "    if response.status_code != 200:\n",
    "        raise Exception(\"Não consegui extrair os dados\")\n",
    "    return response.json()"
   ]
  },
  {
   "cell_type": "code",
   "execution_count": 0,
   "metadata": {
    "application/vnd.databricks.v1+cell": {
     "cellMetadata": {
      "byteLimit": 2048000,
      "rowLimit": 10000
     },
     "inputWidgets": {},
     "nuid": "d1226655-ca97-4bf1-b68e-062ae94927d8",
     "showTitle": false,
     "tableResultSettingsMap": {},
     "title": ""
    }
   },
   "outputs": [],
   "source": [
    "def dados_para_dataframe(dado_json): \n",
    "    dados_tupla = [(moeda, float(taxa)) for moeda, taxa in dado_json[\"rates\"].items()]\n",
    "    return dados_tupla"
   ]
  },
  {
   "cell_type": "code",
   "execution_count": 0,
   "metadata": {
    "application/vnd.databricks.v1+cell": {
     "cellMetadata": {
      "byteLimit": 2048000,
      "rowLimit": 10000
     },
     "inputWidgets": {},
     "nuid": "776819ca-a7a7-4336-9910-0c4879e9689b",
     "showTitle": false,
     "tableResultSettingsMap": {},
     "title": ""
    }
   },
   "outputs": [],
   "source": [
    "def salvar_arquivo_parquet(conversao_extraidas):\n",
    "\n",
    "\n",
    "    ano, mes, dia = conversao_extraidas[\"date\"].split(\"-\")\n",
    "    caminho_completo = f\"dbfs:/databricks-results/bronze/{ano}/{mes}/{dia}\"\n",
    "    response = dados_para_dataframe(conversao_extraidas)\n",
    "    df_conversoes = spark.createDataFrame(response, schema=['moeda', 'taxa'])\n",
    "    df_conversoes = df_conversoes.withColumn(\"data\", lit(f\"{ano}/{mes}/{dia}\"))\n",
    "    df_conversoes.write.mode(\"overwrite\").format(\"parquet\").save(caminho_completo)\n",
    "    \n",
    "    print(f\"Arquivo salvo com sucesso em {caminho_completo}\")"
   ]
  },
  {
   "cell_type": "code",
   "execution_count": 0,
   "metadata": {
    "application/vnd.databricks.v1+cell": {
     "cellMetadata": {
      "byteLimit": 2048000,
      "rowLimit": 10000
     },
     "inputWidgets": {},
     "nuid": "170a4b12-4b9e-43d0-88b8-bd1b9d85664c",
     "showTitle": false,
     "tableResultSettingsMap": {},
     "title": ""
    }
   },
   "outputs": [],
   "source": [
    "cotacoes = extraindo_dados(data_execucao)"
   ]
  },
  {
   "cell_type": "code",
   "execution_count": 0,
   "metadata": {
    "application/vnd.databricks.v1+cell": {
     "cellMetadata": {
      "byteLimit": 2048000,
      "rowLimit": 10000
     },
     "inputWidgets": {},
     "nuid": "84cd67df-e340-425e-8811-1561d9abe1c5",
     "showTitle": false,
     "tableResultSettingsMap": {},
     "title": ""
    }
   },
   "outputs": [],
   "source": [
    "salvar_arquivo_parquet(cotacoes)"
   ]
  }
 ],
 "metadata": {
  "application/vnd.databricks.v1+notebook": {
   "computePreferences": null,
   "dashboards": [],
   "environmentMetadata": {
    "base_environment": "",
    "environment_version": "2"
   },
   "language": "python",
   "notebookMetadata": {
    "pythonIndentUnit": 4
   },
   "notebookName": "extraindo-dados",
   "widgets": {
    "data_execucao": {
     "currentValue": "",
     "nuid": "f0e755e5-82d6-42ec-9db6-d9f9fd417826",
     "typedWidgetInfo": {
      "autoCreated": false,
      "defaultValue": "",
      "label": null,
      "name": "data_execucao",
      "options": {
       "widgetDisplayType": "Text",
       "validationRegex": null
      },
      "parameterDataType": "String"
     },
     "widgetInfo": {
      "widgetType": "text",
      "defaultValue": "",
      "label": null,
      "name": "data_execucao",
      "options": {
       "widgetType": "text",
       "autoCreated": null,
       "validationRegex": null
      }
     }
    }
   }
  },
  "language_info": {
   "name": "python"
  }
 },
 "nbformat": 4,
 "nbformat_minor": 0
}
